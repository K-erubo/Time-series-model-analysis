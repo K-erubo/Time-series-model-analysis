{
 "cells": [
  {
   "cell_type": "markdown",
   "id": "99a549f1",
   "metadata": {
    "papermill": {
     "duration": 0.006026,
     "end_time": "2023-10-27T18:38:40.325176",
     "exception": false,
     "start_time": "2023-10-27T18:38:40.319150",
     "status": "completed"
    },
    "tags": []
   },
   "source": []
  },
  {
   "cell_type": "markdown",
   "id": "3a26a61c",
   "metadata": {
    "papermill": {
     "duration": 0.00525,
     "end_time": "2023-10-27T18:38:40.336085",
     "exception": false,
     "start_time": "2023-10-27T18:38:40.330835",
     "status": "completed"
    },
    "tags": []
   },
   "source": [
    "**Import relevant libraries**"
   ]
  },
  {
   "cell_type": "code",
   "execution_count": 1,
   "id": "b5d0f094",
   "metadata": {
    "execution": {
     "iopub.execute_input": "2023-10-27T18:38:40.349050Z",
     "iopub.status.busy": "2023-10-27T18:38:40.348683Z",
     "iopub.status.idle": "2023-10-27T18:38:43.671508Z",
     "shell.execute_reply": "2023-10-27T18:38:43.670597Z"
    },
    "papermill": {
     "duration": 3.332907,
     "end_time": "2023-10-27T18:38:43.674491",
     "exception": false,
     "start_time": "2023-10-27T18:38:40.341584",
     "status": "completed"
    },
    "tags": []
   },
   "outputs": [],
   "source": [
    "import pandas as pd\n",
    "import matplotlib.pyplot as plt\n",
    "import statsmodels.api as sm\n",
    "import seaborn as sns\n",
    "sns.set()"
   ]
  },
  {
   "cell_type": "markdown",
   "id": "323d4e2d",
   "metadata": {
    "papermill": {
     "duration": 0.00539,
     "end_time": "2023-10-27T18:38:43.685593",
     "exception": false,
     "start_time": "2023-10-27T18:38:43.680203",
     "status": "completed"
    },
    "tags": []
   },
   "source": []
  },
  {
   "cell_type": "markdown",
   "id": "e33f4c6d",
   "metadata": {
    "papermill": {
     "duration": 0.005309,
     "end_time": "2023-10-27T18:38:43.696437",
     "exception": false,
     "start_time": "2023-10-27T18:38:43.691128",
     "status": "completed"
    },
    "tags": []
   },
   "source": [
    "**To verify directory of the data**"
   ]
  },
  {
   "cell_type": "code",
   "execution_count": 2,
   "id": "774817ac",
   "metadata": {
    "execution": {
     "iopub.execute_input": "2023-10-27T18:38:43.709344Z",
     "iopub.status.busy": "2023-10-27T18:38:43.708809Z",
     "iopub.status.idle": "2023-10-27T18:38:43.715499Z",
     "shell.execute_reply": "2023-10-27T18:38:43.714313Z"
    },
    "papermill": {
     "duration": 0.015916,
     "end_time": "2023-10-27T18:38:43.717879",
     "exception": false,
     "start_time": "2023-10-27T18:38:43.701963",
     "status": "completed"
    },
    "tags": []
   },
   "outputs": [
    {
     "name": "stdout",
     "output_type": "stream",
     "text": [
      "['craigslist-vehicles']\n"
     ]
    }
   ],
   "source": [
    "import os\n",
    "directory = '/kaggle/input'\n",
    "files = os.listdir(directory)\n",
    "print(files)"
   ]
  },
  {
   "cell_type": "markdown",
   "id": "cc58820a",
   "metadata": {
    "execution": {
     "iopub.execute_input": "2023-10-27T16:53:25.531630Z",
     "iopub.status.busy": "2023-10-27T16:53:25.531318Z",
     "iopub.status.idle": "2023-10-27T16:53:25.622366Z",
     "shell.execute_reply": "2023-10-27T16:53:25.621512Z",
     "shell.execute_reply.started": "2023-10-27T16:53:25.531608Z"
    },
    "papermill": {
     "duration": 0.005535,
     "end_time": "2023-10-27T18:38:43.729300",
     "exception": false,
     "start_time": "2023-10-27T18:38:43.723765",
     "status": "completed"
    },
    "tags": []
   },
   "source": [
    "**Specify file name and directory**\n",
    "\n",
    "\n",
    "To easily access and load the data"
   ]
  },
  {
   "cell_type": "code",
   "execution_count": 3,
   "id": "cea2585b",
   "metadata": {
    "execution": {
     "iopub.execute_input": "2023-10-27T18:38:43.742867Z",
     "iopub.status.busy": "2023-10-27T18:38:43.742505Z",
     "iopub.status.idle": "2023-10-27T18:38:43.746915Z",
     "shell.execute_reply": "2023-10-27T18:38:43.745971Z"
    },
    "papermill": {
     "duration": 0.0136,
     "end_time": "2023-10-27T18:38:43.748988",
     "exception": false,
     "start_time": "2023-10-27T18:38:43.735388",
     "status": "completed"
    },
    "tags": []
   },
   "outputs": [],
   "source": [
    "directory = '/kaggle/input/craigslist-vehicles'\n",
    "file_name = 'craigslist_vehicles.csv'"
   ]
  },
  {
   "cell_type": "markdown",
   "id": "681f00e8",
   "metadata": {
    "papermill": {
     "duration": 0.005406,
     "end_time": "2023-10-27T18:38:43.760005",
     "exception": false,
     "start_time": "2023-10-27T18:38:43.754599",
     "status": "completed"
    },
    "tags": []
   },
   "source": [
    "**Combine the file name and directory to create a full path**"
   ]
  },
  {
   "cell_type": "code",
   "execution_count": 4,
   "id": "fe22f8c2",
   "metadata": {
    "execution": {
     "iopub.execute_input": "2023-10-27T18:38:43.773495Z",
     "iopub.status.busy": "2023-10-27T18:38:43.772783Z",
     "iopub.status.idle": "2023-10-27T18:38:43.778403Z",
     "shell.execute_reply": "2023-10-27T18:38:43.777261Z"
    },
    "papermill": {
     "duration": 0.014732,
     "end_time": "2023-10-27T18:38:43.780505",
     "exception": false,
     "start_time": "2023-10-27T18:38:43.765773",
     "status": "completed"
    },
    "tags": []
   },
   "outputs": [],
   "source": [
    "file_path = os.path.join(directory, file_name)"
   ]
  },
  {
   "cell_type": "markdown",
   "id": "a9df2bd9",
   "metadata": {
    "papermill": {
     "duration": 0.00531,
     "end_time": "2023-10-27T18:38:43.791400",
     "exception": false,
     "start_time": "2023-10-27T18:38:43.786090",
     "status": "completed"
    },
    "tags": []
   },
   "source": []
  },
  {
   "cell_type": "markdown",
   "id": "d87a8b2a",
   "metadata": {
    "papermill": {
     "duration": 0.005342,
     "end_time": "2023-10-27T18:38:43.802333",
     "exception": false,
     "start_time": "2023-10-27T18:38:43.796991",
     "status": "completed"
    },
    "tags": []
   },
   "source": [
    "**Load the data**"
   ]
  },
  {
   "cell_type": "code",
   "execution_count": 5,
   "id": "db97c803",
   "metadata": {
    "execution": {
     "iopub.execute_input": "2023-10-27T18:38:43.815478Z",
     "iopub.status.busy": "2023-10-27T18:38:43.815077Z",
     "iopub.status.idle": "2023-10-27T18:39:13.305194Z",
     "shell.execute_reply": "2023-10-27T18:39:13.303941Z"
    },
    "papermill": {
     "duration": 29.499989,
     "end_time": "2023-10-27T18:39:13.307951",
     "exception": false,
     "start_time": "2023-10-27T18:38:43.807962",
     "status": "completed"
    },
    "tags": []
   },
   "outputs": [
    {
     "data": {
      "text/html": [
       "<div>\n",
       "<style scoped>\n",
       "    .dataframe tbody tr th:only-of-type {\n",
       "        vertical-align: middle;\n",
       "    }\n",
       "\n",
       "    .dataframe tbody tr th {\n",
       "        vertical-align: top;\n",
       "    }\n",
       "\n",
       "    .dataframe thead th {\n",
       "        text-align: right;\n",
       "    }\n",
       "</style>\n",
       "<table border=\"1\" class=\"dataframe\">\n",
       "  <thead>\n",
       "    <tr style=\"text-align: right;\">\n",
       "      <th></th>\n",
       "      <th>Unnamed: 0</th>\n",
       "      <th>id</th>\n",
       "      <th>url</th>\n",
       "      <th>region</th>\n",
       "      <th>region_url</th>\n",
       "      <th>price</th>\n",
       "      <th>year</th>\n",
       "      <th>manufacturer</th>\n",
       "      <th>model</th>\n",
       "      <th>condition</th>\n",
       "      <th>...</th>\n",
       "      <th>type</th>\n",
       "      <th>paint_color</th>\n",
       "      <th>image_url</th>\n",
       "      <th>description</th>\n",
       "      <th>county</th>\n",
       "      <th>state</th>\n",
       "      <th>lat</th>\n",
       "      <th>long</th>\n",
       "      <th>posting_date</th>\n",
       "      <th>removal_date</th>\n",
       "    </tr>\n",
       "  </thead>\n",
       "  <tbody>\n",
       "    <tr>\n",
       "      <th>0</th>\n",
       "      <td>362773</td>\n",
       "      <td>7307679724</td>\n",
       "      <td>https://abilene.craigslist.org/ctd/d/abilene-2...</td>\n",
       "      <td>abilene</td>\n",
       "      <td>https://abilene.craigslist.org</td>\n",
       "      <td>4500</td>\n",
       "      <td>2002.0</td>\n",
       "      <td>bmw</td>\n",
       "      <td>x5</td>\n",
       "      <td>NaN</td>\n",
       "      <td>...</td>\n",
       "      <td>NaN</td>\n",
       "      <td>NaN</td>\n",
       "      <td>https://images.craigslist.org/00m0m_iba78h8ty9...</td>\n",
       "      <td>$4,500 Cash  2002 BMW X5  8 cylinder 4.4L moto...</td>\n",
       "      <td>NaN</td>\n",
       "      <td>tx</td>\n",
       "      <td>32.401556</td>\n",
       "      <td>-99.884713</td>\n",
       "      <td>2021-04-16 00:00:00+00:00</td>\n",
       "      <td>2021-05-02 00:00:00+00:00</td>\n",
       "    </tr>\n",
       "    <tr>\n",
       "      <th>1</th>\n",
       "      <td>362712</td>\n",
       "      <td>7311833696</td>\n",
       "      <td>https://abilene.craigslist.org/ctd/d/abilene-2...</td>\n",
       "      <td>abilene</td>\n",
       "      <td>https://abilene.craigslist.org</td>\n",
       "      <td>4500</td>\n",
       "      <td>2002.0</td>\n",
       "      <td>bmw</td>\n",
       "      <td>x5</td>\n",
       "      <td>NaN</td>\n",
       "      <td>...</td>\n",
       "      <td>NaN</td>\n",
       "      <td>NaN</td>\n",
       "      <td>https://images.craigslist.org/00m0m_iba78h8ty9...</td>\n",
       "      <td>$4,500 Cash  2002 BMW X5  8 cylinder 4.4L moto...</td>\n",
       "      <td>NaN</td>\n",
       "      <td>tx</td>\n",
       "      <td>32.401556</td>\n",
       "      <td>-99.884713</td>\n",
       "      <td>2021-04-24 00:00:00+00:00</td>\n",
       "      <td>2021-04-28 00:00:00+00:00</td>\n",
       "    </tr>\n",
       "    <tr>\n",
       "      <th>2</th>\n",
       "      <td>362722</td>\n",
       "      <td>7311441996</td>\n",
       "      <td>https://abilene.craigslist.org/ctd/d/abilene-2...</td>\n",
       "      <td>abilene</td>\n",
       "      <td>https://abilene.craigslist.org</td>\n",
       "      <td>4900</td>\n",
       "      <td>2006.0</td>\n",
       "      <td>toyota</td>\n",
       "      <td>camry</td>\n",
       "      <td>excellent</td>\n",
       "      <td>...</td>\n",
       "      <td>sedan</td>\n",
       "      <td>silver</td>\n",
       "      <td>https://images.craigslist.org/00808_5FkOw2aGjA...</td>\n",
       "      <td>2006 TOYOTA CAMRY LE Sedan   Ready To Upgrade ...</td>\n",
       "      <td>NaN</td>\n",
       "      <td>tx</td>\n",
       "      <td>32.453848</td>\n",
       "      <td>-99.787900</td>\n",
       "      <td>2021-04-23 00:00:00+00:00</td>\n",
       "      <td>2021-05-25 00:00:00+00:00</td>\n",
       "    </tr>\n",
       "    <tr>\n",
       "      <th>3</th>\n",
       "      <td>362771</td>\n",
       "      <td>7307680715</td>\n",
       "      <td>https://abilene.craigslist.org/ctd/d/abilene-2...</td>\n",
       "      <td>abilene</td>\n",
       "      <td>https://abilene.craigslist.org</td>\n",
       "      <td>6500</td>\n",
       "      <td>2008.0</td>\n",
       "      <td>ford</td>\n",
       "      <td>expedition</td>\n",
       "      <td>NaN</td>\n",
       "      <td>...</td>\n",
       "      <td>NaN</td>\n",
       "      <td>NaN</td>\n",
       "      <td>https://images.craigslist.org/00M0M_i9CoFvVq8o...</td>\n",
       "      <td>$6500.00 2008 Ford Expedition  8 cylinder 5.4L...</td>\n",
       "      <td>NaN</td>\n",
       "      <td>tx</td>\n",
       "      <td>32.401556</td>\n",
       "      <td>-99.884713</td>\n",
       "      <td>2021-04-16 00:00:00+00:00</td>\n",
       "      <td>2021-04-26 00:00:00+00:00</td>\n",
       "    </tr>\n",
       "    <tr>\n",
       "      <th>4</th>\n",
       "      <td>362710</td>\n",
       "      <td>7311834578</td>\n",
       "      <td>https://abilene.craigslist.org/ctd/d/abilene-2...</td>\n",
       "      <td>abilene</td>\n",
       "      <td>https://abilene.craigslist.org</td>\n",
       "      <td>6500</td>\n",
       "      <td>2008.0</td>\n",
       "      <td>ford</td>\n",
       "      <td>expedition</td>\n",
       "      <td>NaN</td>\n",
       "      <td>...</td>\n",
       "      <td>NaN</td>\n",
       "      <td>NaN</td>\n",
       "      <td>https://images.craigslist.org/00M0M_i9CoFvVq8o...</td>\n",
       "      <td>$6500.00 2008 Ford Expedition  8 cylinder 5.4L...</td>\n",
       "      <td>NaN</td>\n",
       "      <td>tx</td>\n",
       "      <td>32.401556</td>\n",
       "      <td>-99.884713</td>\n",
       "      <td>2021-04-24 00:00:00+00:00</td>\n",
       "      <td>2021-05-12 00:00:00+00:00</td>\n",
       "    </tr>\n",
       "    <tr>\n",
       "      <th>...</th>\n",
       "      <td>...</td>\n",
       "      <td>...</td>\n",
       "      <td>...</td>\n",
       "      <td>...</td>\n",
       "      <td>...</td>\n",
       "      <td>...</td>\n",
       "      <td>...</td>\n",
       "      <td>...</td>\n",
       "      <td>...</td>\n",
       "      <td>...</td>\n",
       "      <td>...</td>\n",
       "      <td>...</td>\n",
       "      <td>...</td>\n",
       "      <td>...</td>\n",
       "      <td>...</td>\n",
       "      <td>...</td>\n",
       "      <td>...</td>\n",
       "      <td>...</td>\n",
       "      <td>...</td>\n",
       "      <td>...</td>\n",
       "      <td>...</td>\n",
       "    </tr>\n",
       "    <tr>\n",
       "      <th>426875</th>\n",
       "      <td>303849</td>\n",
       "      <td>7307070484</td>\n",
       "      <td>https://zanesville.craigslist.org/cto/d/zanesv...</td>\n",
       "      <td>zanesville / cambridge</td>\n",
       "      <td>https://zanesville.craigslist.org</td>\n",
       "      <td>5100</td>\n",
       "      <td>2009.0</td>\n",
       "      <td>NaN</td>\n",
       "      <td>saab 9-7x</td>\n",
       "      <td>fair</td>\n",
       "      <td>...</td>\n",
       "      <td>SUV</td>\n",
       "      <td>grey</td>\n",
       "      <td>https://images.craigslist.org/00b0b_dsIhheG86S...</td>\n",
       "      <td>For sale: 2009 Saab 9-7x Fair condition  AWD  ...</td>\n",
       "      <td>NaN</td>\n",
       "      <td>oh</td>\n",
       "      <td>39.937000</td>\n",
       "      <td>-82.031500</td>\n",
       "      <td>2021-04-15 00:00:00+00:00</td>\n",
       "      <td>2021-04-21 00:00:00+00:00</td>\n",
       "    </tr>\n",
       "    <tr>\n",
       "      <th>426876</th>\n",
       "      <td>303706</td>\n",
       "      <td>7314635557</td>\n",
       "      <td>https://zanesville.craigslist.org/cto/d/zanesv...</td>\n",
       "      <td>zanesville / cambridge</td>\n",
       "      <td>https://zanesville.craigslist.org</td>\n",
       "      <td>7500</td>\n",
       "      <td>2011.0</td>\n",
       "      <td>ford</td>\n",
       "      <td>f-450</td>\n",
       "      <td>good</td>\n",
       "      <td>...</td>\n",
       "      <td>bus</td>\n",
       "      <td>red</td>\n",
       "      <td>https://images.craigslist.org/00b0b_8lBfNkZ6pr...</td>\n",
       "      <td>2011 E-Ford 450 with 177k miles, 6.8 liter v-1...</td>\n",
       "      <td>NaN</td>\n",
       "      <td>oh</td>\n",
       "      <td>39.927400</td>\n",
       "      <td>-82.004100</td>\n",
       "      <td>2021-04-30 00:00:00+00:00</td>\n",
       "      <td>2021-05-15 00:00:00+00:00</td>\n",
       "    </tr>\n",
       "    <tr>\n",
       "      <th>426877</th>\n",
       "      <td>303704</td>\n",
       "      <td>7314710341</td>\n",
       "      <td>https://zanesville.craigslist.org/cto/d/zanesv...</td>\n",
       "      <td>zanesville / cambridge</td>\n",
       "      <td>https://zanesville.craigslist.org</td>\n",
       "      <td>25000</td>\n",
       "      <td>2016.0</td>\n",
       "      <td>chevrolet</td>\n",
       "      <td>silverado</td>\n",
       "      <td>excellent</td>\n",
       "      <td>...</td>\n",
       "      <td>truck</td>\n",
       "      <td>blue</td>\n",
       "      <td>https://images.craigslist.org/00k0k_jw0Pda6LTk...</td>\n",
       "      <td>2013 Silverado excellent condition. Blue in co...</td>\n",
       "      <td>NaN</td>\n",
       "      <td>oh</td>\n",
       "      <td>39.896865</td>\n",
       "      <td>-82.042283</td>\n",
       "      <td>2021-04-30 00:00:00+00:00</td>\n",
       "      <td>2021-05-12 00:00:00+00:00</td>\n",
       "    </tr>\n",
       "    <tr>\n",
       "      <th>426878</th>\n",
       "      <td>303670</td>\n",
       "      <td>7316225330</td>\n",
       "      <td>https://zanesville.craigslist.org/cto/d/zanesv...</td>\n",
       "      <td>zanesville / cambridge</td>\n",
       "      <td>https://zanesville.craigslist.org</td>\n",
       "      <td>6</td>\n",
       "      <td>1986.0</td>\n",
       "      <td>NaN</td>\n",
       "      <td>camaro iroc z28</td>\n",
       "      <td>good</td>\n",
       "      <td>...</td>\n",
       "      <td>NaN</td>\n",
       "      <td>red</td>\n",
       "      <td>https://images.craigslist.org/00Y0Y_avlrYDn7OY...</td>\n",
       "      <td>1986 Iroc Z28 , T-tops , 86,500 miles , has ne...</td>\n",
       "      <td>NaN</td>\n",
       "      <td>oh</td>\n",
       "      <td>39.938630</td>\n",
       "      <td>-82.006760</td>\n",
       "      <td>2021-05-03 00:00:00+00:00</td>\n",
       "      <td>2021-05-08 00:00:00+00:00</td>\n",
       "    </tr>\n",
       "    <tr>\n",
       "      <th>426879</th>\n",
       "      <td>303836</td>\n",
       "      <td>7308192431</td>\n",
       "      <td>https://zanesville.craigslist.org/cto/d/zanesv...</td>\n",
       "      <td>zanesville / cambridge</td>\n",
       "      <td>https://zanesville.craigslist.org</td>\n",
       "      <td>9795</td>\n",
       "      <td>1999.0</td>\n",
       "      <td>dodge</td>\n",
       "      <td>durango</td>\n",
       "      <td>like new</td>\n",
       "      <td>...</td>\n",
       "      <td>SUV</td>\n",
       "      <td>silver</td>\n",
       "      <td>https://images.craigslist.org/00J0J_fbgDQsCgfB...</td>\n",
       "      <td>FOR SALE LIKE NEW 1999 DODGE DURANGO, LOADED W...</td>\n",
       "      <td>NaN</td>\n",
       "      <td>oh</td>\n",
       "      <td>39.998337</td>\n",
       "      <td>-82.022885</td>\n",
       "      <td>2021-04-17 00:00:00+00:00</td>\n",
       "      <td>2021-05-09 00:00:00+00:00</td>\n",
       "    </tr>\n",
       "  </tbody>\n",
       "</table>\n",
       "<p>426880 rows × 28 columns</p>\n",
       "</div>"
      ],
      "text/plain": [
       "        Unnamed: 0          id  \\\n",
       "0           362773  7307679724   \n",
       "1           362712  7311833696   \n",
       "2           362722  7311441996   \n",
       "3           362771  7307680715   \n",
       "4           362710  7311834578   \n",
       "...            ...         ...   \n",
       "426875      303849  7307070484   \n",
       "426876      303706  7314635557   \n",
       "426877      303704  7314710341   \n",
       "426878      303670  7316225330   \n",
       "426879      303836  7308192431   \n",
       "\n",
       "                                                      url  \\\n",
       "0       https://abilene.craigslist.org/ctd/d/abilene-2...   \n",
       "1       https://abilene.craigslist.org/ctd/d/abilene-2...   \n",
       "2       https://abilene.craigslist.org/ctd/d/abilene-2...   \n",
       "3       https://abilene.craigslist.org/ctd/d/abilene-2...   \n",
       "4       https://abilene.craigslist.org/ctd/d/abilene-2...   \n",
       "...                                                   ...   \n",
       "426875  https://zanesville.craigslist.org/cto/d/zanesv...   \n",
       "426876  https://zanesville.craigslist.org/cto/d/zanesv...   \n",
       "426877  https://zanesville.craigslist.org/cto/d/zanesv...   \n",
       "426878  https://zanesville.craigslist.org/cto/d/zanesv...   \n",
       "426879  https://zanesville.craigslist.org/cto/d/zanesv...   \n",
       "\n",
       "                        region                         region_url  price  \\\n",
       "0                      abilene     https://abilene.craigslist.org   4500   \n",
       "1                      abilene     https://abilene.craigslist.org   4500   \n",
       "2                      abilene     https://abilene.craigslist.org   4900   \n",
       "3                      abilene     https://abilene.craigslist.org   6500   \n",
       "4                      abilene     https://abilene.craigslist.org   6500   \n",
       "...                        ...                                ...    ...   \n",
       "426875  zanesville / cambridge  https://zanesville.craigslist.org   5100   \n",
       "426876  zanesville / cambridge  https://zanesville.craigslist.org   7500   \n",
       "426877  zanesville / cambridge  https://zanesville.craigslist.org  25000   \n",
       "426878  zanesville / cambridge  https://zanesville.craigslist.org      6   \n",
       "426879  zanesville / cambridge  https://zanesville.craigslist.org   9795   \n",
       "\n",
       "          year manufacturer            model  condition  ...   type  \\\n",
       "0       2002.0          bmw               x5        NaN  ...    NaN   \n",
       "1       2002.0          bmw               x5        NaN  ...    NaN   \n",
       "2       2006.0       toyota            camry  excellent  ...  sedan   \n",
       "3       2008.0         ford       expedition        NaN  ...    NaN   \n",
       "4       2008.0         ford       expedition        NaN  ...    NaN   \n",
       "...        ...          ...              ...        ...  ...    ...   \n",
       "426875  2009.0          NaN        saab 9-7x       fair  ...    SUV   \n",
       "426876  2011.0         ford            f-450       good  ...    bus   \n",
       "426877  2016.0    chevrolet        silverado  excellent  ...  truck   \n",
       "426878  1986.0          NaN  camaro iroc z28       good  ...    NaN   \n",
       "426879  1999.0        dodge          durango   like new  ...    SUV   \n",
       "\n",
       "       paint_color                                          image_url  \\\n",
       "0              NaN  https://images.craigslist.org/00m0m_iba78h8ty9...   \n",
       "1              NaN  https://images.craigslist.org/00m0m_iba78h8ty9...   \n",
       "2           silver  https://images.craigslist.org/00808_5FkOw2aGjA...   \n",
       "3              NaN  https://images.craigslist.org/00M0M_i9CoFvVq8o...   \n",
       "4              NaN  https://images.craigslist.org/00M0M_i9CoFvVq8o...   \n",
       "...            ...                                                ...   \n",
       "426875        grey  https://images.craigslist.org/00b0b_dsIhheG86S...   \n",
       "426876         red  https://images.craigslist.org/00b0b_8lBfNkZ6pr...   \n",
       "426877        blue  https://images.craigslist.org/00k0k_jw0Pda6LTk...   \n",
       "426878         red  https://images.craigslist.org/00Y0Y_avlrYDn7OY...   \n",
       "426879      silver  https://images.craigslist.org/00J0J_fbgDQsCgfB...   \n",
       "\n",
       "                                              description county state  \\\n",
       "0       $4,500 Cash  2002 BMW X5  8 cylinder 4.4L moto...    NaN    tx   \n",
       "1       $4,500 Cash  2002 BMW X5  8 cylinder 4.4L moto...    NaN    tx   \n",
       "2       2006 TOYOTA CAMRY LE Sedan   Ready To Upgrade ...    NaN    tx   \n",
       "3       $6500.00 2008 Ford Expedition  8 cylinder 5.4L...    NaN    tx   \n",
       "4       $6500.00 2008 Ford Expedition  8 cylinder 5.4L...    NaN    tx   \n",
       "...                                                   ...    ...   ...   \n",
       "426875  For sale: 2009 Saab 9-7x Fair condition  AWD  ...    NaN    oh   \n",
       "426876  2011 E-Ford 450 with 177k miles, 6.8 liter v-1...    NaN    oh   \n",
       "426877  2013 Silverado excellent condition. Blue in co...    NaN    oh   \n",
       "426878  1986 Iroc Z28 , T-tops , 86,500 miles , has ne...    NaN    oh   \n",
       "426879  FOR SALE LIKE NEW 1999 DODGE DURANGO, LOADED W...    NaN    oh   \n",
       "\n",
       "              lat       long               posting_date  \\\n",
       "0       32.401556 -99.884713  2021-04-16 00:00:00+00:00   \n",
       "1       32.401556 -99.884713  2021-04-24 00:00:00+00:00   \n",
       "2       32.453848 -99.787900  2021-04-23 00:00:00+00:00   \n",
       "3       32.401556 -99.884713  2021-04-16 00:00:00+00:00   \n",
       "4       32.401556 -99.884713  2021-04-24 00:00:00+00:00   \n",
       "...           ...        ...                        ...   \n",
       "426875  39.937000 -82.031500  2021-04-15 00:00:00+00:00   \n",
       "426876  39.927400 -82.004100  2021-04-30 00:00:00+00:00   \n",
       "426877  39.896865 -82.042283  2021-04-30 00:00:00+00:00   \n",
       "426878  39.938630 -82.006760  2021-05-03 00:00:00+00:00   \n",
       "426879  39.998337 -82.022885  2021-04-17 00:00:00+00:00   \n",
       "\n",
       "                     removal_date  \n",
       "0       2021-05-02 00:00:00+00:00  \n",
       "1       2021-04-28 00:00:00+00:00  \n",
       "2       2021-05-25 00:00:00+00:00  \n",
       "3       2021-04-26 00:00:00+00:00  \n",
       "4       2021-05-12 00:00:00+00:00  \n",
       "...                           ...  \n",
       "426875  2021-04-21 00:00:00+00:00  \n",
       "426876  2021-05-15 00:00:00+00:00  \n",
       "426877  2021-05-12 00:00:00+00:00  \n",
       "426878  2021-05-08 00:00:00+00:00  \n",
       "426879  2021-05-09 00:00:00+00:00  \n",
       "\n",
       "[426880 rows x 28 columns]"
      ]
     },
     "execution_count": 5,
     "metadata": {},
     "output_type": "execute_result"
    }
   ],
   "source": [
    "df = pd.read_csv(file_path, encoding='utf-8')\n",
    "df"
   ]
  },
  {
   "cell_type": "markdown",
   "id": "b8e47229",
   "metadata": {
    "papermill": {
     "duration": 0.005932,
     "end_time": "2023-10-27T18:39:13.320542",
     "exception": false,
     "start_time": "2023-10-27T18:39:13.314610",
     "status": "completed"
    },
    "tags": []
   },
   "source": [
    "**Handle Missing values**\n",
    "\n",
    "Fill the blanks using median for numerical columns and mode for categorical columns"
   ]
  },
  {
   "cell_type": "code",
   "execution_count": 6,
   "id": "e0df23e7",
   "metadata": {
    "execution": {
     "iopub.execute_input": "2023-10-27T18:39:13.334436Z",
     "iopub.status.busy": "2023-10-27T18:39:13.334058Z",
     "iopub.status.idle": "2023-10-27T18:39:13.626528Z",
     "shell.execute_reply": "2023-10-27T18:39:13.625521Z"
    },
    "papermill": {
     "duration": 0.302605,
     "end_time": "2023-10-27T18:39:13.629299",
     "exception": false,
     "start_time": "2023-10-27T18:39:13.326694",
     "status": "completed"
    },
    "tags": []
   },
   "outputs": [],
   "source": [
    "numerical_cols = ['price', 'year']\n",
    "categorical_cols = ['manufacturer', 'model', 'condition'] \n",
    "df[numerical_cols] = df[numerical_cols].fillna(df[numerical_cols].median())\n",
    "df[categorical_cols] = df[categorical_cols].fillna(df[categorical_cols].mode().iloc[0])"
   ]
  },
  {
   "cell_type": "markdown",
   "id": "f81db7ff",
   "metadata": {
    "papermill": {
     "duration": 0.006012,
     "end_time": "2023-10-27T18:39:13.641827",
     "exception": false,
     "start_time": "2023-10-27T18:39:13.635815",
     "status": "completed"
    },
    "tags": []
   },
   "source": [
    "**Conversion of data type**\n",
    "\n",
    "Convert the 'posting_date' column to a datetime data type"
   ]
  },
  {
   "cell_type": "code",
   "execution_count": 7,
   "id": "0b38fbfa",
   "metadata": {
    "execution": {
     "iopub.execute_input": "2023-10-27T18:39:13.656010Z",
     "iopub.status.busy": "2023-10-27T18:39:13.655651Z",
     "iopub.status.idle": "2023-10-27T18:39:13.725916Z",
     "shell.execute_reply": "2023-10-27T18:39:13.724768Z"
    },
    "papermill": {
     "duration": 0.080581,
     "end_time": "2023-10-27T18:39:13.728650",
     "exception": false,
     "start_time": "2023-10-27T18:39:13.648069",
     "status": "completed"
    },
    "tags": []
   },
   "outputs": [],
   "source": [
    "df['posting_date'] = pd.to_datetime(df['posting_date'], errors='coerce') "
   ]
  },
  {
   "cell_type": "markdown",
   "id": "62d7de51",
   "metadata": {
    "papermill": {
     "duration": 0.006121,
     "end_time": "2023-10-27T18:39:13.741285",
     "exception": false,
     "start_time": "2023-10-27T18:39:13.735164",
     "status": "completed"
    },
    "tags": []
   },
   "source": [
    "**Filter out rows with NaT in the posting_date column**"
   ]
  },
  {
   "cell_type": "code",
   "execution_count": 8,
   "id": "7d739d48",
   "metadata": {
    "execution": {
     "iopub.execute_input": "2023-10-27T18:39:13.756560Z",
     "iopub.status.busy": "2023-10-27T18:39:13.756153Z",
     "iopub.status.idle": "2023-10-27T18:39:13.912705Z",
     "shell.execute_reply": "2023-10-27T18:39:13.911521Z"
    },
    "papermill": {
     "duration": 0.16619,
     "end_time": "2023-10-27T18:39:13.915106",
     "exception": false,
     "start_time": "2023-10-27T18:39:13.748916",
     "status": "completed"
    },
    "tags": []
   },
   "outputs": [],
   "source": [
    "df = df[~df['posting_date'].isna()]"
   ]
  },
  {
   "cell_type": "markdown",
   "id": "a8bae227",
   "metadata": {
    "papermill": {
     "duration": 0.005918,
     "end_time": "2023-10-27T18:39:13.927645",
     "exception": false,
     "start_time": "2023-10-27T18:39:13.921727",
     "status": "completed"
    },
    "tags": []
   },
   "source": []
  },
  {
   "cell_type": "markdown",
   "id": "0385d412",
   "metadata": {
    "papermill": {
     "duration": 0.005866,
     "end_time": "2023-10-27T18:39:13.939575",
     "exception": false,
     "start_time": "2023-10-27T18:39:13.933709",
     "status": "completed"
    },
    "tags": []
   },
   "source": [
    "**Create a Date time index**\n",
    "\n",
    "Set the 'posting_date' column as the index to facilitate time-series analysis.\n"
   ]
  },
  {
   "cell_type": "code",
   "execution_count": 9,
   "id": "e3558797",
   "metadata": {
    "execution": {
     "iopub.execute_input": "2023-10-27T18:39:13.953531Z",
     "iopub.status.busy": "2023-10-27T18:39:13.953113Z",
     "iopub.status.idle": "2023-10-27T18:39:13.958453Z",
     "shell.execute_reply": "2023-10-27T18:39:13.957483Z"
    },
    "papermill": {
     "duration": 0.014473,
     "end_time": "2023-10-27T18:39:13.960360",
     "exception": false,
     "start_time": "2023-10-27T18:39:13.945887",
     "status": "completed"
    },
    "tags": []
   },
   "outputs": [],
   "source": [
    "df.set_index('posting_date', inplace=True)"
   ]
  },
  {
   "cell_type": "markdown",
   "id": "33417979",
   "metadata": {
    "papermill": {
     "duration": 0.005923,
     "end_time": "2023-10-27T18:39:13.972389",
     "exception": false,
     "start_time": "2023-10-27T18:39:13.966466",
     "status": "completed"
    },
    "tags": []
   },
   "source": [
    "**Ensure 'posting_date' is sorted**"
   ]
  },
  {
   "cell_type": "code",
   "execution_count": 10,
   "id": "0de0fb74",
   "metadata": {
    "execution": {
     "iopub.execute_input": "2023-10-27T18:39:13.986880Z",
     "iopub.status.busy": "2023-10-27T18:39:13.986256Z",
     "iopub.status.idle": "2023-10-27T18:39:14.469817Z",
     "shell.execute_reply": "2023-10-27T18:39:14.468204Z"
    },
    "papermill": {
     "duration": 0.493827,
     "end_time": "2023-10-27T18:39:14.472494",
     "exception": false,
     "start_time": "2023-10-27T18:39:13.978667",
     "status": "completed"
    },
    "tags": []
   },
   "outputs": [],
   "source": [
    "df = df.sort_values(by='posting_date')"
   ]
  },
  {
   "cell_type": "markdown",
   "id": "3308a9bc",
   "metadata": {
    "papermill": {
     "duration": 0.006091,
     "end_time": "2023-10-27T18:39:14.484917",
     "exception": false,
     "start_time": "2023-10-27T18:39:14.478826",
     "status": "completed"
    },
    "tags": []
   },
   "source": [
    "**Plot the time series**\n",
    "\n",
    "To show how prices change over time based on posting dates"
   ]
  },
  {
   "cell_type": "code",
   "execution_count": 11,
   "id": "9990d754",
   "metadata": {
    "execution": {
     "iopub.execute_input": "2023-10-27T18:39:14.499182Z",
     "iopub.status.busy": "2023-10-27T18:39:14.498794Z",
     "iopub.status.idle": "2023-10-27T18:39:20.834365Z",
     "shell.execute_reply": "2023-10-27T18:39:20.833246Z"
    },
    "papermill": {
     "duration": 6.345746,
     "end_time": "2023-10-27T18:39:20.837047",
     "exception": false,
     "start_time": "2023-10-27T18:39:14.491301",
     "status": "completed"
    },
    "tags": []
   },
   "outputs": [
    {
     "data": {
      "image/png": "[encoded data removed]",
      "text/plain": [
       "<Figure size 2000x700 with 1 Axes>"
      ]
     },
     "metadata": {},
     "output_type": "display_data"
    }
   ],
   "source": [
    "plt.figure(figsize=(20,7))\n",
    "plt.plot(df.index, df['price'], label='Price', color='b')\n",
    "plt.xlabel('Date')\n",
    "plt.ylabel('Price')\n",
    "plt.title('Time-Series Chart for Price')\n",
    "plt.legend()\n",
    "plt.grid(True)\n",
    "plt.show()"
   ]
  },
  {
   "cell_type": "markdown",
   "id": "99e077e8",
   "metadata": {
    "papermill": {
     "duration": 0.006554,
     "end_time": "2023-10-27T18:39:20.850913",
     "exception": false,
     "start_time": "2023-10-27T18:39:20.844359",
     "status": "completed"
    },
    "tags": []
   },
   "source": []
  },
  {
   "cell_type": "code",
   "execution_count": null,
   "id": "ead50159",
   "metadata": {
    "papermill": {
     "duration": 0.006587,
     "end_time": "2023-10-27T18:39:20.864379",
     "exception": false,
     "start_time": "2023-10-27T18:39:20.857792",
     "status": "completed"
    },
    "tags": []
   },
   "outputs": [],
   "source": []
  }
 ],
 "metadata": {
  "kernelspec": {
   "display_name": "Python 3",
   "language": "python",
   "name": "python3"
  },
  "language_info": {
   "codemirror_mode": {
    "name": "ipython",
    "version": 3
   },
   "file_extension": ".py",
   "mimetype": "text/x-python",
   "name": "python",
   "nbconvert_exporter": "python",
   "pygments_lexer": "ipython3",
   "version": "3.10.12"
  },
  "papermill": {
   "default_parameters": {},
   "duration": 44.85209,
   "end_time": "2023-10-27T18:39:21.894134",
   "environment_variables": {},
   "exception": null,
   "input_path": "__notebook__.ipynb",
   "output_path": "__notebook__.ipynb",
   "parameters": {},
   "start_time": "2023-10-27T18:38:37.042044",
   "version": "2.4.0"
  }
 },
 "nbformat": 4,
 "nbformat_minor": 5
}
